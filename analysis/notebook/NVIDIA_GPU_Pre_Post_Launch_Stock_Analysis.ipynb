{
  "cells": [
    {
      "cell_type": "markdown",
      "id": "d788f2b8",
      "metadata": {
        "id": "d788f2b8"
      },
      "source": [
        "# 📊 NVIDIA Stock Analysis Around GPU Series Launches\n",
        "This notebook analyzes the impact of major NVIDIA GPU launches (RTX 20, 30, 40, 50 series) on its stock price.  \n",
        "We study how the stock performs **5 months before and after** each launch, using event-driven financial analysis."
      ]
    },
    {
      "cell_type": "code",
      "execution_count": null,
      "id": "fad5c062",
      "metadata": {
        "id": "fad5c062"
      },
      "outputs": [],
      "source": [
        "import pandas as pd\n",
        "import matplotlib.pyplot as plt\n",
        "import seaborn as sns\n",
        "from datetime import datetime, timedelta\n",
        "\n",
        "# Load CSV\n",
        "df = pd.read_csv(\"Nvidia_stock_data.csv\")\n",
        "df['Date'] = pd.to_datetime(df['Date'])\n",
        "df.head()"
      ]
    },
    {
      "cell_type": "code",
      "execution_count": null,
      "id": "80078461",
      "metadata": {
        "id": "80078461"
      },
      "outputs": [],
      "source": [
        "# GPU Series Launch Dates (Launch Announce)\n",
        "launch_dates = {\n",
        "    \"RTX 20\": datetime(2018, 8, 20),\n",
        "    \"RTX 30\": datetime(2020, 9, 1),\n",
        "    \"RTX 40\": datetime(2022, 9, 20),\n",
        "    \"RTX 50\": datetime(2025, 1, 6)\n",
        "}\n",
        "\n",
        "# Filter ±5 months (To analyze before and after trend )\n",
        "five_months = timedelta(days=150)\n",
        "filtered = []\n",
        "\n",
        "for series, launch in launch_dates.items():\n",
        "    temp_df = df[(df['Date'] >= launch - five_months) & (df['Date'] <= launch + five_months)].copy()\n",
        "    temp_df['Series'] = series\n",
        "    temp_df['Phase'] = temp_df['Date'].apply(lambda x: 'Pre-launch' if x < launch else 'Post-launch')\n",
        "    temp_df['Days_From_Launch'] = (temp_df['Date'] - launch).dt.days\n",
        "    pre_avg = temp_df[temp_df['Phase'] == 'Pre-launch']['Close'].mean()\n",
        "    temp_df['Close_Diff'] = temp_df['Close'] - pre_avg\n",
        "    filtered.append(temp_df)\n",
        "\n",
        "final_df = pd.concat(filtered).reset_index(drop=True)"
      ]
    },
    {
      "cell_type": "code",
      "execution_count": null,
      "id": "72048f24",
      "metadata": {
        "id": "72048f24"
      },
      "outputs": [],
      "source": [
        "sns.set(style=\"whitegrid\")\n",
        "plt.figure(figsize=(14, 6))\n",
        "sns.lineplot(data=final_df, x=\"Days_From_Launch\", y=\"Close_Diff\", hue=\"Series\", style=\"Phase\")\n",
        "plt.axhline(0, color='black', linestyle='--', linewidth=1)\n",
        "plt.title(\"NVIDIA GPU Series: Price Change Relative to Pre-launch Average\")\n",
        "plt.xlabel(\"Days from Launch (Negative = Pre, Positive = Post)\")\n",
        "plt.ylabel(\"Close - Pre-launch Avg Close\")\n",
        "plt.tight_layout()\n",
        "plt.show()"
      ]
    },
    {
      "cell_type": "markdown",
      "id": "1b898b69",
      "metadata": {
        "id": "1b898b69"
      },
      "source": [
        "##  Interpretation\n",
        "\n",
        "- **RTX 50**: Highest volatility after launch, stock itself saw a lot of dips due to maybe overvaluation, Deepseek R1 announcment or even hardware issues of GPUs.\n",
        "\n",
        "- **RTX 40**: Flat — minimal investor reaction, not much difference in pre-launch or post-launch trends, maybe due to crypto crash or due to market and investor deviation turning to GPUs like A100 which help with cloud and AI.\n",
        "\n",
        "- **RTX 30**: Positive performance — triggered a very positive reposnse, causes might be linked to pandemic, higher GPU demands by crypto miners, limited initial volume created a artificial scarcity, gaming in general also saw a rise.\n",
        "\n",
        "- **RTX 20**: Dipped before launch, recovered after — Nvidia saw initial overestimation of Gtx series and RTX wasnt well recieved at first but later on after games introduced ray tracing, it became a long term bet and inventory issues were also resolved."
      ]
    },
    {
      "cell_type": "code",
      "execution_count": null,
      "id": "3fae647c",
      "metadata": {
        "id": "3fae647c"
      },
      "outputs": [],
      "source": [
        "# Save for reuse\n",
        "final_df.to_csv(\"Nvidia_GPU_Event_Analysis.csv\", index=False)"
      ]
    },
    {
      "cell_type": "code",
      "source": [],
      "metadata": {
        "id": "if8VMIleC4sk"
      },
      "id": "if8VMIleC4sk",
      "execution_count": null,
      "outputs": []
    }
  ],
  "metadata": {
    "colab": {
      "provenance": []
    }
  },
  "nbformat": 4,
  "nbformat_minor": 5
}